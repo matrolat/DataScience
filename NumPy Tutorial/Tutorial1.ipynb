{
 "cells": [
  {
   "cell_type": "code",
   "execution_count": 1,
   "id": "271a3cd1-7393-4824-847f-2d1af752ae6e",
   "metadata": {},
   "outputs": [],
   "source": [
    "import numpy as np"
   ]
  },
  {
   "cell_type": "code",
   "execution_count": 2,
   "id": "bdb34b73-ff95-4024-aad9-6f4937e3407a",
   "metadata": {},
   "outputs": [],
   "source": [
    "one_dimensional_arr = np.array([1,2,34,4,565,6778])"
   ]
  },
  {
   "cell_type": "code",
   "execution_count": 3,
   "id": "484e8e60-36c5-493a-87a7-8e36ab4f381e",
   "metadata": {},
   "outputs": [
    {
     "name": "stdout",
     "output_type": "stream",
     "text": [
      "[   1    2   34    4  565 6778]\n"
     ]
    }
   ],
   "source": [
    "print(one_dimensional_arr)"
   ]
  },
  {
   "cell_type": "code",
   "execution_count": 4,
   "id": "a7c9be73-bc7a-460b-939e-174e4894cfe5",
   "metadata": {},
   "outputs": [],
   "source": [
    "two_dimensional_arr = np.array([ [1,2] , [3,4] , [5,6] ])"
   ]
  },
  {
   "cell_type": "code",
   "execution_count": 5,
   "id": "b4f2a2c1-c10d-45ce-84c2-28d1ed4917ac",
   "metadata": {},
   "outputs": [
    {
     "name": "stdout",
     "output_type": "stream",
     "text": [
      "[[1 2]\n",
      " [3 4]\n",
      " [5 6]]\n"
     ]
    }
   ],
   "source": [
    "print(two_dimensional_arr)"
   ]
  },
  {
   "cell_type": "code",
   "execution_count": 10,
   "id": "0de2146b-8691-43b6-993a-d33b067d6818",
   "metadata": {},
   "outputs": [],
   "source": [
    "random_arr = np.random.randint(low = 1, high= 100, size=(6,2))"
   ]
  },
  {
   "cell_type": "code",
   "execution_count": 11,
   "id": "0b655b12-cef0-4d6b-ab71-798b66409b7c",
   "metadata": {},
   "outputs": [
    {
     "name": "stdout",
     "output_type": "stream",
     "text": [
      "[[60 25]\n",
      " [29 51]\n",
      " [91 29]\n",
      " [67 24]\n",
      " [29 50]\n",
      " [61 70]]\n"
     ]
    }
   ],
   "source": [
    "print(random_arr)"
   ]
  },
  {
   "cell_type": "code",
   "execution_count": 12,
   "id": "238d114a-84de-4354-b0a2-7ad4c1b0fd5f",
   "metadata": {},
   "outputs": [
    {
     "name": "stdout",
     "output_type": "stream",
     "text": [
      "[[180  75]\n",
      " [ 87 153]\n",
      " [273  87]\n",
      " [201  72]\n",
      " [ 87 150]\n",
      " [183 210]]\n"
     ]
    }
   ],
   "source": [
    "print(random_arr * 3)"
   ]
  },
  {
   "cell_type": "code",
   "execution_count": 13,
   "id": "d45dc3e4-ca1b-4d37-913b-97b5e31f5f26",
   "metadata": {},
   "outputs": [],
   "source": [
    "# Task 1:\n",
    "# Your goal is to create a simple dataset consisting of a single feature and a label as follows:\n",
    "\n",
    "# 1.Assign a sequence of integers from 6 to 20 (inclusive) to a NumPy array named feature.\n",
    "# 2.Assign 15 values to a NumPy array named label such that:\n",
    "#    label = (3)(feature) + 4"
   ]
  },
  {
   "cell_type": "code",
   "execution_count": 16,
   "id": "55b39fac-6e88-4bbf-acbb-39baad8be4e5",
   "metadata": {},
   "outputs": [],
   "source": [
    "feature = np.arange(6,21)"
   ]
  },
  {
   "cell_type": "code",
   "execution_count": 17,
   "id": "3da7fe74-513c-4a7e-b191-35289ec2757c",
   "metadata": {},
   "outputs": [
    {
     "name": "stdout",
     "output_type": "stream",
     "text": [
      "[ 6  7  8  9 10 11 12 13 14 15 16 17 18 19 20]\n"
     ]
    }
   ],
   "source": [
    "print(feature)"
   ]
  },
  {
   "cell_type": "code",
   "execution_count": 18,
   "id": "5822754d-363f-469a-b8b0-4651a41d3c5f",
   "metadata": {},
   "outputs": [],
   "source": [
    "label = feature"
   ]
  },
  {
   "cell_type": "code",
   "execution_count": 19,
   "id": "9a414c32-0a58-4424-80fc-370ba984dee1",
   "metadata": {},
   "outputs": [],
   "source": [
    "label = label * 3"
   ]
  },
  {
   "cell_type": "code",
   "execution_count": 20,
   "id": "fd98b988-8957-40d4-998d-ef9f7b6e691c",
   "metadata": {},
   "outputs": [],
   "source": [
    "label += 4"
   ]
  },
  {
   "cell_type": "code",
   "execution_count": 21,
   "id": "dd8ddbf3-3ff2-43f3-8cfe-71ef6c0cedf7",
   "metadata": {},
   "outputs": [
    {
     "name": "stdout",
     "output_type": "stream",
     "text": [
      "[22 25 28 31 34 37 40 43 46 49 52 55 58 61 64]\n"
     ]
    }
   ],
   "source": [
    "print(label)"
   ]
  },
  {
   "cell_type": "code",
   "execution_count": 30,
   "id": "bcc7d614-7812-4d71-b2f7-153475f6a1c1",
   "metadata": {},
   "outputs": [],
   "source": [
    "# Task 2: Add Some Noise to the Dataset\n",
    "# To make your dataset a little more realistic, insert a little random noise into each element of the label array you already created. To be more precise, modify each value assigned to label by adding a different random floating-point value between -2 and +2.\n",
    "\n",
    "# Don't rely on broadcasting. Instead, create a noise array having the same dimension as label.\n",
    "\n",
    "noise = np.random.random([15]) * 4\n"
   ]
  },
  {
   "cell_type": "code",
   "execution_count": 31,
   "id": "b92e8303-6612-4b2f-8f85-47b2d9f0b53b",
   "metadata": {},
   "outputs": [
    {
     "name": "stdout",
     "output_type": "stream",
     "text": [
      "[2.54458002 0.92816182 3.19056843 0.30664487 3.37465736 1.55564067\n",
      " 0.62343324 2.53887592 1.9810282  1.55439356 3.57518721 0.59967094\n",
      " 1.68669243 2.05675776 2.22798717]\n"
     ]
    }
   ],
   "source": [
    "print(noise)"
   ]
  },
  {
   "cell_type": "code",
   "execution_count": 32,
   "id": "ff223b9d-5a38-41ba-be44-c3c481628545",
   "metadata": {},
   "outputs": [],
   "source": [
    "noise = noise -2"
   ]
  },
  {
   "cell_type": "code",
   "execution_count": 33,
   "id": "d1291d7a-a31c-4d99-8433-eedc593f4ecb",
   "metadata": {},
   "outputs": [
    {
     "name": "stdout",
     "output_type": "stream",
     "text": [
      "[ 0.54458002 -1.07183818  1.19056843 -1.69335513  1.37465736 -0.44435933\n",
      " -1.37656676  0.53887592 -0.0189718  -0.44560644  1.57518721 -1.40032906\n",
      " -0.31330757  0.05675776  0.22798717]\n"
     ]
    }
   ],
   "source": [
    "print(noise)"
   ]
  },
  {
   "cell_type": "code",
   "execution_count": null,
   "id": "2abbc3f1-cb0d-4b64-9e44-05957601fbdd",
   "metadata": {},
   "outputs": [],
   "source": []
  }
 ],
 "metadata": {
  "kernelspec": {
   "display_name": "Python 3 (ipykernel)",
   "language": "python",
   "name": "python3"
  },
  "language_info": {
   "codemirror_mode": {
    "name": "ipython",
    "version": 3
   },
   "file_extension": ".py",
   "mimetype": "text/x-python",
   "name": "python",
   "nbconvert_exporter": "python",
   "pygments_lexer": "ipython3",
   "version": "3.12.1"
  }
 },
 "nbformat": 4,
 "nbformat_minor": 5
}
